{
 "cells": [
  {
   "cell_type": "code",
   "execution_count": 4,
   "id": "cc5009e2",
   "metadata": {},
   "outputs": [],
   "source": [
    "import pandas as pd\n",
    "import numpy as np\n",
    "import matplotlib.pyplot as plt\n",
    "import seaborn as sns"
   ]
  },
  {
   "cell_type": "code",
   "execution_count": 3,
   "id": "708ba521",
   "metadata": {},
   "outputs": [
    {
     "data": {
      "text/html": [
       "<div>\n",
       "<style scoped>\n",
       "    .dataframe tbody tr th:only-of-type {\n",
       "        vertical-align: middle;\n",
       "    }\n",
       "\n",
       "    .dataframe tbody tr th {\n",
       "        vertical-align: top;\n",
       "    }\n",
       "\n",
       "    .dataframe thead th {\n",
       "        text-align: right;\n",
       "    }\n",
       "</style>\n",
       "<table border=\"1\" class=\"dataframe\">\n",
       "  <thead>\n",
       "    <tr style=\"text-align: right;\">\n",
       "      <th></th>\n",
       "      <th>titles</th>\n",
       "      <th>platforms</th>\n",
       "      <th>metascore</th>\n",
       "      <th>userscore</th>\n",
       "      <th>genre</th>\n",
       "      <th>date</th>\n",
       "    </tr>\n",
       "  </thead>\n",
       "  <tbody>\n",
       "    <tr>\n",
       "      <th>0</th>\n",
       "      <td>Streets of Rage 4: Mr. X Nightmare</td>\n",
       "      <td>PC</td>\n",
       "      <td>88.0</td>\n",
       "      <td>tbd</td>\n",
       "      <td>action</td>\n",
       "      <td>July 15, 2021</td>\n",
       "    </tr>\n",
       "    <tr>\n",
       "      <th>1</th>\n",
       "      <td>Sniper Elite VR</td>\n",
       "      <td>PC</td>\n",
       "      <td>67.0</td>\n",
       "      <td>7.1</td>\n",
       "      <td>action</td>\n",
       "      <td>July 8, 2021</td>\n",
       "    </tr>\n",
       "    <tr>\n",
       "      <th>2</th>\n",
       "      <td>Sniper Elite VR</td>\n",
       "      <td>PlayStation 4</td>\n",
       "      <td>75.0</td>\n",
       "      <td>tbd</td>\n",
       "      <td>action</td>\n",
       "      <td>July 8, 2021</td>\n",
       "    </tr>\n",
       "    <tr>\n",
       "      <th>3</th>\n",
       "      <td>Boomerang X</td>\n",
       "      <td>PC</td>\n",
       "      <td>81.0</td>\n",
       "      <td>6.6</td>\n",
       "      <td>action</td>\n",
       "      <td>July 8, 2021</td>\n",
       "    </tr>\n",
       "    <tr>\n",
       "      <th>4</th>\n",
       "      <td>Boomerang X</td>\n",
       "      <td>Switch</td>\n",
       "      <td>78.0</td>\n",
       "      <td>6.3</td>\n",
       "      <td>action</td>\n",
       "      <td>July 8, 2021</td>\n",
       "    </tr>\n",
       "  </tbody>\n",
       "</table>\n",
       "</div>"
      ],
      "text/plain": [
       "                               titles      platforms  metascore userscore  \\\n",
       "0  Streets of Rage 4: Mr. X Nightmare             PC       88.0       tbd   \n",
       "1                     Sniper Elite VR             PC       67.0       7.1   \n",
       "2                     Sniper Elite VR  PlayStation 4       75.0       tbd   \n",
       "3                         Boomerang X             PC       81.0       6.6   \n",
       "4                         Boomerang X         Switch       78.0       6.3   \n",
       "\n",
       "    genre           date  \n",
       "0  action  July 15, 2021  \n",
       "1  action   July 8, 2021  \n",
       "2  action   July 8, 2021  \n",
       "3  action   July 8, 2021  \n",
       "4  action   July 8, 2021  "
      ]
     },
     "execution_count": 3,
     "metadata": {},
     "output_type": "execute_result"
    }
   ],
   "source": [
    "df =  pd.read_csv('metacritic_18.07.2021_csv.csv')\n",
    "df.head()"
   ]
  },
  {
   "cell_type": "code",
   "execution_count": 5,
   "id": "81a61149",
   "metadata": {},
   "outputs": [
    {
     "data": {
      "text/plain": [
       "(30777, 6)"
      ]
     },
     "execution_count": 5,
     "metadata": {},
     "output_type": "execute_result"
    }
   ],
   "source": [
    "df.shape"
   ]
  },
  {
   "cell_type": "code",
   "execution_count": 6,
   "id": "d5ef5d13",
   "metadata": {},
   "outputs": [
    {
     "name": "stdout",
     "output_type": "stream",
     "text": [
      "<class 'pandas.core.frame.DataFrame'>\n",
      "RangeIndex: 30777 entries, 0 to 30776\n",
      "Data columns (total 6 columns):\n",
      " #   Column     Non-Null Count  Dtype  \n",
      "---  ------     --------------  -----  \n",
      " 0   titles     30777 non-null  object \n",
      " 1   platforms  30777 non-null  object \n",
      " 2   metascore  28486 non-null  float64\n",
      " 3   userscore  25082 non-null  object \n",
      " 4   genre      30777 non-null  object \n",
      " 5   date       30777 non-null  object \n",
      "dtypes: float64(1), object(5)\n",
      "memory usage: 1.4+ MB\n"
     ]
    }
   ],
   "source": [
    "df.info()"
   ]
  },
  {
   "cell_type": "code",
   "execution_count": 7,
   "id": "612e4d45",
   "metadata": {},
   "outputs": [],
   "source": [
    "df['date'] = pd.to_datetime(df['date'])"
   ]
  },
  {
   "cell_type": "code",
   "execution_count": 8,
   "id": "734c5fdf",
   "metadata": {},
   "outputs": [
    {
     "data": {
      "text/plain": [
       "array(['PC', 'PlayStation 4', 'Switch', 'Xbox One', 'Xbox Series X',\n",
       "       'PlayStation 5',\n",
       "       'iOS\\n                                                                                    \\xa0(Apple Arcade)',\n",
       "       'iOS', 'Stadia', '3DS', 'PlayStation Vita', 'Wii U',\n",
       "       'PlayStation 3', 'Xbox 360', 'PSP', 'DS', 'Wii', 'PlayStation 2',\n",
       "       'Game Boy Advance', 'GameCube', 'Xbox', 'PlayStation', 'Dreamcast',\n",
       "       'Nintendo 64'], dtype=object)"
      ]
     },
     "execution_count": 8,
     "metadata": {},
     "output_type": "execute_result"
    }
   ],
   "source": [
    "df['platforms'].uniqueue()"
   ]
  },
  {
   "cell_type": "code",
   "execution_count": 11,
   "id": "5cd8de48",
   "metadata": {},
   "outputs": [],
   "source": [
    "df.loc[df['platforms'] == 'iOS\\n                                                                                    \\xa0(Apple Arcade)','platforms'] = 'iOS (Apple Arcade)'"
   ]
  },
  {
   "cell_type": "code",
   "execution_count": 12,
   "id": "4a6355e8",
   "metadata": {},
   "outputs": [
    {
     "data": {
      "text/plain": [
       "73.0    1105\n",
       "75.0    1078\n",
       "80.0    1067\n",
       "74.0    1059\n",
       "78.0    1053\n",
       "76.0    1052\n",
       "77.0    1043\n",
       "72.0    1033\n",
       "70.0    1015\n",
       "79.0     993\n",
       "71.0     964\n",
       "68.0     940\n",
       "81.0     936\n",
       "69.0     913\n",
       "82.0     830\n",
       "83.0     799\n",
       "67.0     763\n",
       "66.0     750\n",
       "65.0     742\n",
       "84.0     708\n",
       "63.0     695\n",
       "64.0     687\n",
       "85.0     611\n",
       "62.0     593\n",
       "61.0     579\n",
       "59.0     552\n",
       "86.0     504\n",
       "58.0     496\n",
       "60.0     485\n",
       "87.0     406\n",
       "56.0     402\n",
       "88.0     397\n",
       "57.0     382\n",
       "54.0     371\n",
       "55.0     363\n",
       "53.0     325\n",
       "89.0     315\n",
       "90.0     242\n",
       "50.0     237\n",
       "51.0     228\n",
       "52.0     214\n",
       "91.0     182\n",
       "92.0     124\n",
       "93.0     104\n",
       "94.0      81\n",
       "95.0      25\n",
       "96.0      24\n",
       "97.0      14\n",
       "98.0       5\n",
       "Name: metascore, dtype: int64"
      ]
     },
     "execution_count": 12,
     "metadata": {},
     "output_type": "execute_result"
    }
   ],
   "source": [
    "df['metascore'].value_counts()"
   ]
  },
  {
   "cell_type": "code",
   "execution_count": 15,
   "id": "753442c1",
   "metadata": {},
   "outputs": [
    {
     "data": {
      "image/png": "[encoded data removed]",
      "text/plain": [
       "<Figure size 1080x576 with 1 Axes>"
      ]
     },
     "metadata": {
      "needs_background": "light"
     },
     "output_type": "display_data"
    }
   ],
   "source": [
    "# game yang dirilis per tahun\n",
    "df['year'] = pd.DatetimeIndex(df['date']).year\n",
    "num_game_release = df.groupby('year').count()['titles'].reset_index()\n",
    "num_game_release.columns = ['Year','Count']\n",
    "plt.figure(figsize=(15,8))\n",
    "ax = sns.lineplot(data=num_game_release,x='Year',y='Count')\n",
    "plt.show()"
   ]
  },
  {
   "cell_type": "code",
   "execution_count": null,
   "id": "3edc53ed",
   "metadata": {},
   "outputs": [],
   "source": [
    "# game terbanyak dirilis tahun 2011"
   ]
  },
  {
   "cell_type": "code",
   "execution_count": 16,
   "id": "1f24a682",
   "metadata": {},
   "outputs": [
    {
     "data": {
      "image/png": "[encoded data removed]",
      "text/plain": [
       "<Figure size 1080x576 with 1 Axes>"
      ]
     },
     "metadata": {
      "needs_background": "light"
     },
     "output_type": "display_data"
    }
   ],
   "source": [
    "# distribusi game\n",
    "plt.figure(figsize=(15,8))\n",
    "sns.countplot(data=df,x='genre',order=df['genre'].value_counts().index)\n",
    "plt.xticks(rotation=90)\n",
    "plt.show()"
   ]
  },
  {
   "cell_type": "code",
   "execution_count": null,
   "id": "a533efd1",
   "metadata": {},
   "outputs": [],
   "source": [
    "# genre paling populer adalah action dan paling tidak populer adalah party"
   ]
  },
  {
   "cell_type": "code",
   "execution_count": 18,
   "id": "3f5455d1",
   "metadata": {},
   "outputs": [
    {
     "data": {
      "text/plain": [
       "platforms\n",
       "Nintendo 64           79.589474\n",
       "iOS (Apple Arcade)    76.529412\n",
       "iOS                   75.137165\n",
       "Stadia                75.111111\n",
       "PlayStation 5         74.954545\n",
       "PlayStation           74.928571\n",
       "Xbox Series X         74.253968\n",
       "Dreamcast             73.940678\n",
       "Wii U                 72.868914\n",
       "PlayStation 3         72.751381\n",
       "PC                    72.609118\n",
       "Xbox One              72.588618\n",
       "PlayStation Vita      72.303653\n",
       "Xbox 360              72.196954\n",
       "Xbox                  72.111549\n",
       "Switch                71.634553\n",
       "PlayStation 4         71.535206\n",
       "GameCube              70.689243\n",
       "3DS                   70.638507\n",
       "PlayStation 2         70.433101\n",
       "Game Boy Advance      70.243289\n",
       "PSP                   69.482659\n",
       "DS                    68.844937\n",
       "Wii                   68.781127\n",
       "Name: metascore, dtype: float64"
      ]
     },
     "execution_count": 18,
     "metadata": {},
     "output_type": "execute_result"
    }
   ],
   "source": [
    "# rerata metascore untuk tiap platform\n",
    "meta_platform = df['metascore'].groupby(df['platforms']).mean().sort_values(ascending=False)\n",
    "meta_platform"
   ]
  },
  {
   "cell_type": "code",
   "execution_count": null,
   "id": "86a109af",
   "metadata": {},
   "outputs": [],
   "source": [
    "# game di konsol nintendo64 memiliki skor terbaik dan wii yang terburuk"
   ]
  },
  {
   "cell_type": "code",
   "execution_count": 26,
   "id": "8065e61b",
   "metadata": {},
   "outputs": [
    {
     "data": {
      "text/plain": [
       "['Nintendo 64', 'iOS (Apple Arcade)', 'iOS', 'Stadia', 'PlayStation 5']"
      ]
     },
     "execution_count": 26,
     "metadata": {},
     "output_type": "execute_result"
    }
   ],
   "source": [
    "# top 5 konsol\n",
    "top5_platform_rating = meta_platform.head(5).index.to_list()\n",
    "top5_platform_rating"
   ]
  },
  {
   "cell_type": "code",
   "execution_count": 27,
   "id": "f8b2b309",
   "metadata": {},
   "outputs": [
    {
     "data": {
      "text/plain": [
       "26806"
      ]
     },
     "execution_count": 27,
     "metadata": {},
     "output_type": "execute_result"
    }
   ],
   "source": [
    "# Jumlah game yang rilis di top 5 konsol\n",
    "df[~df['platforms'].isin(top5_platform_rating)].count()['platforms']"
   ]
  },
  {
   "cell_type": "code",
   "execution_count": 28,
   "id": "4b0479c2",
   "metadata": {},
   "outputs": [
    {
     "data": {
      "text/html": [
       "<div>\n",
       "<style scoped>\n",
       "    .dataframe tbody tr th:only-of-type {\n",
       "        vertical-align: middle;\n",
       "    }\n",
       "\n",
       "    .dataframe tbody tr th {\n",
       "        vertical-align: top;\n",
       "    }\n",
       "\n",
       "    .dataframe thead th {\n",
       "        text-align: right;\n",
       "    }\n",
       "</style>\n",
       "<table border=\"1\" class=\"dataframe\">\n",
       "  <thead>\n",
       "    <tr style=\"text-align: right;\">\n",
       "      <th></th>\n",
       "      <th></th>\n",
       "      <th>titles</th>\n",
       "      <th>metascore</th>\n",
       "      <th>userscore</th>\n",
       "      <th>genre</th>\n",
       "      <th>date</th>\n",
       "    </tr>\n",
       "    <tr>\n",
       "      <th>year</th>\n",
       "      <th>platforms</th>\n",
       "      <th></th>\n",
       "      <th></th>\n",
       "      <th></th>\n",
       "      <th></th>\n",
       "      <th></th>\n",
       "    </tr>\n",
       "  </thead>\n",
       "  <tbody>\n",
       "    <tr>\n",
       "      <th>1994</th>\n",
       "      <th>PC</th>\n",
       "      <td>2</td>\n",
       "      <td>2</td>\n",
       "      <td>1</td>\n",
       "      <td>2</td>\n",
       "      <td>2</td>\n",
       "    </tr>\n",
       "    <tr>\n",
       "      <th rowspan=\"2\" valign=\"top\">1995</th>\n",
       "      <th>PC</th>\n",
       "      <td>3</td>\n",
       "      <td>3</td>\n",
       "      <td>3</td>\n",
       "      <td>3</td>\n",
       "      <td>3</td>\n",
       "    </tr>\n",
       "    <tr>\n",
       "      <th>PlayStation</th>\n",
       "      <td>2</td>\n",
       "      <td>2</td>\n",
       "      <td>1</td>\n",
       "      <td>2</td>\n",
       "      <td>2</td>\n",
       "    </tr>\n",
       "    <tr>\n",
       "      <th rowspan=\"2\" valign=\"top\">1996</th>\n",
       "      <th>Nintendo 64</th>\n",
       "      <td>4</td>\n",
       "      <td>4</td>\n",
       "      <td>3</td>\n",
       "      <td>4</td>\n",
       "      <td>4</td>\n",
       "    </tr>\n",
       "    <tr>\n",
       "      <th>PC</th>\n",
       "      <td>24</td>\n",
       "      <td>24</td>\n",
       "      <td>21</td>\n",
       "      <td>24</td>\n",
       "      <td>24</td>\n",
       "    </tr>\n",
       "    <tr>\n",
       "      <th>...</th>\n",
       "      <th>...</th>\n",
       "      <td>...</td>\n",
       "      <td>...</td>\n",
       "      <td>...</td>\n",
       "      <td>...</td>\n",
       "      <td>...</td>\n",
       "    </tr>\n",
       "    <tr>\n",
       "      <th rowspan=\"5\" valign=\"top\">2021</th>\n",
       "      <th>Switch</th>\n",
       "      <td>198</td>\n",
       "      <td>193</td>\n",
       "      <td>177</td>\n",
       "      <td>198</td>\n",
       "      <td>198</td>\n",
       "    </tr>\n",
       "    <tr>\n",
       "      <th>Xbox One</th>\n",
       "      <td>59</td>\n",
       "      <td>57</td>\n",
       "      <td>54</td>\n",
       "      <td>59</td>\n",
       "      <td>59</td>\n",
       "    </tr>\n",
       "    <tr>\n",
       "      <th>Xbox Series X</th>\n",
       "      <td>33</td>\n",
       "      <td>32</td>\n",
       "      <td>28</td>\n",
       "      <td>33</td>\n",
       "      <td>33</td>\n",
       "    </tr>\n",
       "    <tr>\n",
       "      <th>iOS</th>\n",
       "      <td>8</td>\n",
       "      <td>8</td>\n",
       "      <td>8</td>\n",
       "      <td>8</td>\n",
       "      <td>8</td>\n",
       "    </tr>\n",
       "    <tr>\n",
       "      <th>iOS (Apple Arcade)</th>\n",
       "      <td>6</td>\n",
       "      <td>6</td>\n",
       "      <td>6</td>\n",
       "      <td>6</td>\n",
       "      <td>6</td>\n",
       "    </tr>\n",
       "  </tbody>\n",
       "</table>\n",
       "<p>195 rows × 5 columns</p>\n",
       "</div>"
      ],
      "text/plain": [
       "                         titles  metascore  userscore  genre  date\n",
       "year platforms                                                    \n",
       "1994 PC                       2          2          1      2     2\n",
       "1995 PC                       3          3          3      3     3\n",
       "     PlayStation              2          2          1      2     2\n",
       "1996 Nintendo 64              4          4          3      4     4\n",
       "     PC                      24         24         21     24    24\n",
       "...                         ...        ...        ...    ...   ...\n",
       "2021 Switch                 198        193        177    198   198\n",
       "     Xbox One                59         57         54     59    59\n",
       "     Xbox Series X           33         32         28     33    33\n",
       "     iOS                      8          8          8      8     8\n",
       "     iOS (Apple Arcade)       6          6          6      6     6\n",
       "\n",
       "[195 rows x 5 columns]"
      ]
     },
     "execution_count": 28,
     "metadata": {},
     "output_type": "execute_result"
    }
   ],
   "source": [
    "# Tahun rilis dan platform konsolnya\n",
    "year_platform = df.groupby(['year','platforms']).count()\n",
    "year_platform"
   ]
  },
  {
   "cell_type": "code",
   "execution_count": 30,
   "id": "4673dca5",
   "metadata": {},
   "outputs": [
    {
     "data": {
      "text/plain": [
       "platforms\n",
       "PC                  453\n",
       "iOS                 450\n",
       "PlayStation 4       171\n",
       "Xbox One            121\n",
       "PlayStation 3       114\n",
       "PlayStation Vita    102\n",
       "Xbox 360             86\n",
       "3DS                  77\n",
       "Wii U                72\n",
       "Name: titles, dtype: int64"
      ]
     },
     "execution_count": 30,
     "metadata": {},
     "output_type": "execute_result"
    }
   ],
   "source": [
    "# jumlah game yang rilis di konsol/platform tahun 2014\n",
    "year_platform.loc[2014,'titles'].sort_values(ascending=False)"
   ]
  },
  {
   "cell_type": "code",
   "execution_count": 31,
   "id": "1d908510",
   "metadata": {},
   "outputs": [
    {
     "data": {
      "text/html": [
       "<div>\n",
       "<style scoped>\n",
       "    .dataframe tbody tr th:only-of-type {\n",
       "        vertical-align: middle;\n",
       "    }\n",
       "\n",
       "    .dataframe tbody tr th {\n",
       "        vertical-align: top;\n",
       "    }\n",
       "\n",
       "    .dataframe thead th {\n",
       "        text-align: right;\n",
       "    }\n",
       "</style>\n",
       "<table border=\"1\" class=\"dataframe\">\n",
       "  <thead>\n",
       "    <tr style=\"text-align: right;\">\n",
       "      <th></th>\n",
       "      <th>titles</th>\n",
       "      <th>platforms</th>\n",
       "      <th>metascore</th>\n",
       "      <th>userscore</th>\n",
       "      <th>genre</th>\n",
       "      <th>date</th>\n",
       "      <th>year</th>\n",
       "    </tr>\n",
       "  </thead>\n",
       "  <tbody>\n",
       "    <tr>\n",
       "      <th>2</th>\n",
       "      <td>Sniper Elite VR</td>\n",
       "      <td>PlayStation 4</td>\n",
       "      <td>75.0</td>\n",
       "      <td>tbd</td>\n",
       "      <td>action</td>\n",
       "      <td>2021-07-08</td>\n",
       "      <td>2021</td>\n",
       "    </tr>\n",
       "    <tr>\n",
       "      <th>8</th>\n",
       "      <td>Curved Space</td>\n",
       "      <td>PlayStation 5</td>\n",
       "      <td>56.0</td>\n",
       "      <td>tbd</td>\n",
       "      <td>action</td>\n",
       "      <td>2021-06-29</td>\n",
       "      <td>2021</td>\n",
       "    </tr>\n",
       "    <tr>\n",
       "      <th>12</th>\n",
       "      <td>Alex Kidd in Miracle World DX</td>\n",
       "      <td>PlayStation 4</td>\n",
       "      <td>62.0</td>\n",
       "      <td>6.4</td>\n",
       "      <td>action</td>\n",
       "      <td>2021-06-22</td>\n",
       "      <td>2021</td>\n",
       "    </tr>\n",
       "    <tr>\n",
       "      <th>14</th>\n",
       "      <td>Alex Kidd in Miracle World DX</td>\n",
       "      <td>PlayStation 5</td>\n",
       "      <td>67.0</td>\n",
       "      <td>NaN</td>\n",
       "      <td>action</td>\n",
       "      <td>2021-06-22</td>\n",
       "      <td>2021</td>\n",
       "    </tr>\n",
       "    <tr>\n",
       "      <th>19</th>\n",
       "      <td>Metro Exodus: Complete Edition</td>\n",
       "      <td>PlayStation 5</td>\n",
       "      <td>81.0</td>\n",
       "      <td>7.3</td>\n",
       "      <td>action</td>\n",
       "      <td>2021-06-18</td>\n",
       "      <td>2021</td>\n",
       "    </tr>\n",
       "  </tbody>\n",
       "</table>\n",
       "</div>"
      ],
      "text/plain": [
       "                            titles      platforms  metascore userscore  \\\n",
       "2                  Sniper Elite VR  PlayStation 4       75.0       tbd   \n",
       "8                     Curved Space  PlayStation 5       56.0       tbd   \n",
       "12   Alex Kidd in Miracle World DX  PlayStation 4       62.0       6.4   \n",
       "14   Alex Kidd in Miracle World DX  PlayStation 5       67.0       NaN   \n",
       "19  Metro Exodus: Complete Edition  PlayStation 5       81.0       7.3   \n",
       "\n",
       "     genre       date  year  \n",
       "2   action 2021-07-08  2021  \n",
       "8   action 2021-06-29  2021  \n",
       "12  action 2021-06-22  2021  \n",
       "14  action 2021-06-22  2021  \n",
       "19  action 2021-06-18  2021  "
      ]
     },
     "execution_count": 31,
     "metadata": {},
     "output_type": "execute_result"
    }
   ],
   "source": [
    "# game pada platform PlayStation\n",
    "playstation_df = df[df['platforms'].str.contains('PlayStation')]\n",
    "playstation_df.head()"
   ]
  },
  {
   "cell_type": "code",
   "execution_count": 34,
   "id": "a865f343",
   "metadata": {},
   "outputs": [
    {
     "data": {
      "image/png": "[encoded data removed]",
      "text/plain": [
       "<Figure size 1080x576 with 1 Axes>"
      ]
     },
     "metadata": {},
     "output_type": "display_data"
    }
   ],
   "source": [
    "playstation_df.groupby('platforms').count()['titles'].plot.pie(autopct='%1.2f%%',figsize=(15,8),\n",
    "                                                              explode = (0.4,0.05,0.05,0.05,0.2,0.3),startangle=0,cmap='Set3',\n",
    "                                                             )\n",
    "plt.ylabel(\"\")\n",
    "plt.show()"
   ]
  },
  {
   "cell_type": "code",
   "execution_count": 35,
   "id": "35524806",
   "metadata": {},
   "outputs": [
    {
     "data": {
      "text/html": [
       "<div>\n",
       "<style scoped>\n",
       "    .dataframe tbody tr th:only-of-type {\n",
       "        vertical-align: middle;\n",
       "    }\n",
       "\n",
       "    .dataframe tbody tr th {\n",
       "        vertical-align: top;\n",
       "    }\n",
       "\n",
       "    .dataframe thead th {\n",
       "        text-align: right;\n",
       "    }\n",
       "</style>\n",
       "<table border=\"1\" class=\"dataframe\">\n",
       "  <thead>\n",
       "    <tr style=\"text-align: right;\">\n",
       "      <th></th>\n",
       "      <th>titles</th>\n",
       "      <th>platforms</th>\n",
       "      <th>metascore</th>\n",
       "      <th>userscore</th>\n",
       "      <th>genre</th>\n",
       "      <th>date</th>\n",
       "      <th>year</th>\n",
       "    </tr>\n",
       "  </thead>\n",
       "  <tbody>\n",
       "    <tr>\n",
       "      <th>26121</th>\n",
       "      <td>Tony Hawk's Pro Skater 2</td>\n",
       "      <td>PlayStation</td>\n",
       "      <td>98.0</td>\n",
       "      <td>7.4</td>\n",
       "      <td>sports</td>\n",
       "      <td>2000-09-20</td>\n",
       "      <td>2000</td>\n",
       "    </tr>\n",
       "    <tr>\n",
       "      <th>13812</th>\n",
       "      <td>Tekken 3</td>\n",
       "      <td>PlayStation</td>\n",
       "      <td>96.0</td>\n",
       "      <td>9.1</td>\n",
       "      <td>fighting</td>\n",
       "      <td>1998-04-29</td>\n",
       "      <td>1998</td>\n",
       "    </tr>\n",
       "    <tr>\n",
       "      <th>10777</th>\n",
       "      <td>Tekken 3</td>\n",
       "      <td>PlayStation</td>\n",
       "      <td>96.0</td>\n",
       "      <td>NaN</td>\n",
       "      <td>action</td>\n",
       "      <td>1998-04-29</td>\n",
       "      <td>1998</td>\n",
       "    </tr>\n",
       "    <tr>\n",
       "      <th>19206</th>\n",
       "      <td>Gran Turismo</td>\n",
       "      <td>PlayStation</td>\n",
       "      <td>96.0</td>\n",
       "      <td>8.7</td>\n",
       "      <td>racing</td>\n",
       "      <td>1998-04-30</td>\n",
       "      <td>1998</td>\n",
       "    </tr>\n",
       "    <tr>\n",
       "      <th>16634</th>\n",
       "      <td>LittleBigPlanet</td>\n",
       "      <td>PlayStation 3</td>\n",
       "      <td>95.0</td>\n",
       "      <td>6.8</td>\n",
       "      <td>platformer</td>\n",
       "      <td>2008-10-27</td>\n",
       "      <td>2008</td>\n",
       "    </tr>\n",
       "    <tr>\n",
       "      <th>6778</th>\n",
       "      <td>Portal 2</td>\n",
       "      <td>PlayStation 3</td>\n",
       "      <td>95.0</td>\n",
       "      <td>NaN</td>\n",
       "      <td>action</td>\n",
       "      <td>2011-04-19</td>\n",
       "      <td>2011</td>\n",
       "    </tr>\n",
       "    <tr>\n",
       "      <th>12511</th>\n",
       "      <td>The Last of Us</td>\n",
       "      <td>PlayStation 3</td>\n",
       "      <td>95.0</td>\n",
       "      <td>9.2</td>\n",
       "      <td>adventure</td>\n",
       "      <td>2013-06-14</td>\n",
       "      <td>2013</td>\n",
       "    </tr>\n",
       "    <tr>\n",
       "      <th>29289</th>\n",
       "      <td>Red Dead Redemption</td>\n",
       "      <td>PlayStation 3</td>\n",
       "      <td>95.0</td>\n",
       "      <td>8.9</td>\n",
       "      <td>third-person</td>\n",
       "      <td>2010-05-18</td>\n",
       "      <td>2010</td>\n",
       "    </tr>\n",
       "    <tr>\n",
       "      <th>15044</th>\n",
       "      <td>Portal 2</td>\n",
       "      <td>PlayStation 3</td>\n",
       "      <td>95.0</td>\n",
       "      <td>8.7</td>\n",
       "      <td>first-person</td>\n",
       "      <td>2011-04-19</td>\n",
       "      <td>2011</td>\n",
       "    </tr>\n",
       "    <tr>\n",
       "      <th>8311</th>\n",
       "      <td>LittleBigPlanet</td>\n",
       "      <td>PlayStation 3</td>\n",
       "      <td>95.0</td>\n",
       "      <td>6.8</td>\n",
       "      <td>action</td>\n",
       "      <td>2008-10-27</td>\n",
       "      <td>2008</td>\n",
       "    </tr>\n",
       "  </tbody>\n",
       "</table>\n",
       "</div>"
      ],
      "text/plain": [
       "                         titles      platforms  metascore userscore  \\\n",
       "26121  Tony Hawk's Pro Skater 2    PlayStation       98.0       7.4   \n",
       "13812                  Tekken 3    PlayStation       96.0       9.1   \n",
       "10777                  Tekken 3    PlayStation       96.0       NaN   \n",
       "19206              Gran Turismo    PlayStation       96.0       8.7   \n",
       "16634           LittleBigPlanet  PlayStation 3       95.0       6.8   \n",
       "6778                   Portal 2  PlayStation 3       95.0       NaN   \n",
       "12511            The Last of Us  PlayStation 3       95.0       9.2   \n",
       "29289       Red Dead Redemption  PlayStation 3       95.0       8.9   \n",
       "15044                  Portal 2  PlayStation 3       95.0       8.7   \n",
       "8311            LittleBigPlanet  PlayStation 3       95.0       6.8   \n",
       "\n",
       "              genre       date  year  \n",
       "26121        sports 2000-09-20  2000  \n",
       "13812      fighting 1998-04-29  1998  \n",
       "10777        action 1998-04-29  1998  \n",
       "19206        racing 1998-04-30  1998  \n",
       "16634    platformer 2008-10-27  2008  \n",
       "6778         action 2011-04-19  2011  \n",
       "12511     adventure 2013-06-14  2013  \n",
       "29289  third-person 2010-05-18  2010  \n",
       "15044  first-person 2011-04-19  2011  \n",
       "8311         action 2008-10-27  2008  "
      ]
     },
     "execution_count": 35,
     "metadata": {},
     "output_type": "execute_result"
    }
   ],
   "source": [
    "# Top 10 game PS\n",
    "playstation_df.sort_values(by='metascore',ascending = False).head(10)"
   ]
  },
  {
   "cell_type": "code",
   "execution_count": null,
   "id": "d5aef920",
   "metadata": {},
   "outputs": [],
   "source": [
    "# top 10 game PS berasal dari tahun 1998-2013"
   ]
  },
  {
   "cell_type": "code",
   "execution_count": 37,
   "id": "94ce2aba",
   "metadata": {},
   "outputs": [
    {
     "data": {
      "image/png": "[encoded data removed]",
      "text/plain": [
       "<Figure size 1080x576 with 1 Axes>"
      ]
     },
     "metadata": {
      "needs_background": "light"
     },
     "output_type": "display_data"
    }
   ],
   "source": [
    "# Top 5 Genre PS\n",
    "plt.figure(figsize=(15,8))\n",
    "sns.countplot(data=playstation_df,x='genre',order=playstation_df['genre'].value_counts().iloc[:5].index,\n",
    "             palette='Set2')\n",
    "plt.xticks(rotation=90)\n",
    "plt.show()"
   ]
  },
  {
   "cell_type": "code",
   "execution_count": null,
   "id": "851baeca",
   "metadata": {},
   "outputs": [],
   "source": [
    "# genre paling populer di PS adalah action"
   ]
  }
 ],
 "metadata": {
  "kernelspec": {
   "display_name": "Python 3 (ipykernel)",
   "language": "python",
   "name": "python3"
  },
  "language_info": {
   "codemirror_mode": {
    "name": "ipython",
    "version": 3
   },
   "file_extension": ".py",
   "mimetype": "text/x-python",
   "name": "python",
   "nbconvert_exporter": "python",
   "pygments_lexer": "ipython3",
   "version": "3.10.2"
  }
 },
 "nbformat": 4,
 "nbformat_minor": 5
}
